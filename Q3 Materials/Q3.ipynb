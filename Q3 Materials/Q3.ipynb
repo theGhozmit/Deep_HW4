{
 "cells": [
  {
   "cell_type": "code",
   "execution_count": 1,
   "metadata": {},
   "outputs": [
    {
     "name": "stderr",
     "output_type": "stream",
     "text": [
      "c:\\Users\\lesol\\AppData\\Local\\Programs\\Python\\Python311\\Lib\\site-packages\\tqdm\\auto.py:21: TqdmWarning: IProgress not found. Please update jupyter and ipywidgets. See https://ipywidgets.readthedocs.io/en/stable/user_install.html\n",
      "  from .autonotebook import tqdm as notebook_tqdm\n",
      "'HTTPSConnectionPool(host='huggingface.co', port=443): Max retries exceeded with url: /HooshvareLab/gpt2-fa/resolve/main/tokenizer_config.json (Caused by ConnectTimeoutError(<urllib3.connection.HTTPSConnection object at 0x000001C8B4541B90>, 'Connection to huggingface.co timed out. (connect timeout=10)'))' thrown while requesting HEAD https://huggingface.co/HooshvareLab/gpt2-fa/resolve/main/tokenizer_config.json\n",
      "'HTTPSConnectionPool(host='huggingface.co', port=443): Max retries exceeded with url: /HooshvareLab/gpt2-fa/resolve/main/config.json (Caused by ConnectTimeoutError(<urllib3.connection.HTTPSConnection object at 0x000001C8D826ADD0>, 'Connection to huggingface.co timed out. (connect timeout=10)'))' thrown while requesting HEAD https://huggingface.co/HooshvareLab/gpt2-fa/resolve/main/config.json\n"
     ]
    },
    {
     "name": "stdout",
     "output_type": "stream",
     "text": [
      "به نام خداوند جان و خرد<sep>کزین برتر اندیشه برنگذرد<sep><|startoftext|>خداوند نام و خداوند جای<sep>خداوند روزی ده رهنمای<sep>\n",
      "خداوند کیوان و گردان سپهر<sep>فروزنده ماه و ناهید و مهر<sep><|startoftext|>ز نام و نشان و گمان برترست<sep>نگارندهٔ بر شده پیکرست<sep>\n",
      "به بینندگان آفریننده را<sep>نبینی مرنجان دو بیننده را<sep><|startoftext|>نیابد بدو نیز اندیشه راه<sep>که او برتر از نام و از جایگاه<sep>\n",
      "سخن هر چه زین گوهران بگذرد<sep>نیابد بدو راه جان و خرد<sep><|startoftext|>خرد گر سخن برگزیند همی<sep>همان را گزیند که بیند همی<sep>\n",
      "ستودن نداند کس او را چو هست<sep>میان بندگی را ببایدت بست<sep><|startoftext|>خرد را و جان را همی سنجد اوی<sep>در اندیشهٔ سخته کی گنجد اوی<sep>\n",
      "maximum number of words in a beyt:\n",
      "33\n"
     ]
    }
   ],
   "source": [
    "import matplotlib.pyplot as plt\n",
    "import torch\n",
    "from torch.utils.data import random_split, Dataset, DataLoader\n",
    "from transformers import AutoTokenizer, AutoConfig, AutoModelWithLMHead\n",
    "from transformers import AutoTokenizer, GPT2LMHeadModel, GPT2Config\n",
    "from transformers import AdamW, get_linear_schedule_with_warmup\n",
    "\n",
    "device = torch.device(\"cuda\" if torch.cuda.is_available() else \"cpu\")\n",
    "\n",
    "tokenizer = AutoTokenizer.from_pretrained(\n",
    "    \"HooshvareLab/gpt2-fa\",\n",
    "    bos_token='<s>', \n",
    "    eos_token='</s>', \n",
    "    pad_token='<pad>',\n",
    "    unk_token='<unk>'\n",
    ")\n",
    "\n",
    "tokenizer.add_special_tokens({\n",
    "    \"bos_token\": '</s>',\n",
    "    \"eos_token\": '</s>', \n",
    "    \"pad_token\": '<pad>',\n",
    "    \"unk_token\": '<unk>'\n",
    "})\n",
    "\n",
    "config = AutoConfig.from_pretrained(\n",
    "    \"HooshvareLab/gpt2-fa\",\n",
    "    bos_token_id=tokenizer(\"<s>\")[\"input_ids\"][0], \n",
    "    eos_token_id=tokenizer(\"</s>\")[\"input_ids\"][0], \n",
    "    pad_token_id=tokenizer(\"<pad>\")[\"input_ids\"][0],\n",
    "    unk_token_id=tokenizer(\"<unk>\")[\"input_ids\"][0],\n",
    ")\n",
    "\n",
    "with open('ferdousi.txt', 'r', encoding=\"utf8\") as f:\n",
    "    lines = f.readlines()\n",
    "    lines = [line.strip() for line in lines][2:]\n",
    "    lines = lines[:-1]\n",
    "    beyts = []\n",
    "    for i in range(int(len(lines)/4)):\n",
    "        beyts.append(lines[4*i] + \"<sep>\" + lines[4*i+1]+ \"<sep>\" + \"<|startoftext|>\" + lines[4*i+2] + \"<sep>\" + lines[4*i+3]+ \"<sep>\")\n",
    "    \n",
    "for i in range(5) :\n",
    "    print(beyts[i])\n",
    "\n",
    "print(\"maximum number of words in a beyt:\")\n",
    "print(max([len(beyt.split()) for beyt in beyts]))\n",
    "\n",
    "max_len = 40"
   ]
  },
  {
   "cell_type": "code",
   "execution_count": 2,
   "metadata": {},
   "outputs": [
    {
     "name": "stdout",
     "output_type": "stream",
     "text": [
      "sample from dataset:\n",
      "tensor([    0,   490,   561,  6733,  1305,   293,  2964,     9,  2639,   297,\n",
      "         3206,  6188, 29631,   383,   343,     9,     6, 12090,   595,   561,\n",
      "          293,  6733,   798,     9, 12090,   595,  3588,   546, 11552,   450,\n",
      "            9,     2,     1,     1,     1,     1,     1,     1,     1,     1])\n",
      "tensor([1, 1, 1, 1, 1, 1, 1, 1, 1, 1, 1, 1, 1, 1, 1, 1, 1, 1, 1, 1, 1, 1, 1, 1,\n",
      "        1, 1, 1, 1, 1, 1, 1, 1, 0, 0, 0, 0, 0, 0, 0, 0])\n",
      "tensor([    0,   490,   561,  6733,  1305,   293,  2964,     9,  2639,   297,\n",
      "         3206,  6188, 29631,   383,   343,     9,     6, 12090,   595,   561,\n",
      "          293,  6733,   798,     9, 12090,   595,  3588,   546, 11552,   450,\n",
      "            9,     2,     1,     1,     1,     1,     1,     1,     1,     1])\n",
      "<s>به نام خداوند جان و خرد<sep>کزین برتر اندیشه برنگذرد<sep><|startoftext|>خداوند نام و خداوند جای<sep>خداوند روزی ده رهنمای<sep></s><pad><pad><pad><pad><pad><pad><pad><pad>\n",
      "<s>به نام خداوند جان و خرد<sep>کزین برتر اندیشه برنگذرد<sep><|startoftext|>خداوند نام و خداوند جای<sep>خداوند روزی ده رهنمای<sep></s><pad><pad><pad><pad><pad><pad><pad><pad>\n"
     ]
    }
   ],
   "source": [
    "class poetryDataset(Dataset):\n",
    "    def __init__(self, beyts, tokenizer, max_len=1024):\n",
    "\n",
    "        self.tokenizer = tokenizer \n",
    "        self.input_ids = []\n",
    "        self.attn_masks = []\n",
    "\n",
    "        for beyt in beyts:\n",
    "            tokenized = tokenizer('<s>' + beyt + '</s>', truncation=True, max_length=max_len, padding=\"max_length\")\n",
    "            self.input_ids.append(torch.tensor(tokenized['input_ids']))\n",
    "            self.attn_masks.append(torch.tensor(tokenized['attention_mask']))\n",
    "\n",
    "    def __len__(self):\n",
    "        return len(self.input_ids)\n",
    "\n",
    "    def __getitem__(self, idx):\n",
    "        return self.input_ids[idx], self.attn_masks[idx], self.input_ids[idx]\n",
    "    \n",
    "\n",
    "dataset = poetryDataset(beyts, tokenizer, max_len)\n",
    "train_size = int(0.9 * len(dataset))\n",
    "test_size = len(dataset) - train_size\n",
    "train_dataset, test_dataset = random_split(dataset, [train_size, test_size])\n",
    "\n",
    "print(\"sample from dataset:\")\n",
    "print(dataset[0][0])\n",
    "print(dataset[0][1])\n",
    "print(dataset[0][2])\n",
    "print(tokenizer.decode(dataset[0][0]))\n",
    "print(tokenizer.decode(dataset[0][2]))"
   ]
  },
  {
   "cell_type": "code",
   "execution_count": 3,
   "metadata": {},
   "outputs": [
    {
     "name": "stderr",
     "output_type": "stream",
     "text": [
      "'HTTPSConnectionPool(host='huggingface.co', port=443): Max retries exceeded with url: /HooshvareLab/gpt2-fa/resolve/main/config.json (Caused by ConnectTimeoutError(<urllib3.connection.HTTPSConnection object at 0x000001C8D0C06AD0>, 'Connection to huggingface.co timed out. (connect timeout=10)'))' thrown while requesting HEAD https://huggingface.co/HooshvareLab/gpt2-fa/resolve/main/config.json\n",
      "'HTTPSConnectionPool(host='huggingface.co', port=443): Max retries exceeded with url: /HooshvareLab/gpt2-fa/resolve/main/generation_config.json (Caused by ConnectTimeoutError(<urllib3.connection.HTTPSConnection object at 0x000001C8D0C45AD0>, 'Connection to huggingface.co timed out. (connect timeout=10)'))' thrown while requesting HEAD https://huggingface.co/HooshvareLab/gpt2-fa/resolve/main/generation_config.json\n",
      "c:\\Users\\lesol\\AppData\\Local\\Programs\\Python\\Python311\\Lib\\site-packages\\transformers\\optimization.py:411: FutureWarning: This implementation of AdamW is deprecated and will be removed in a future version. Use the PyTorch implementation torch.optim.AdamW instead, or set `no_deprecation_warning=True` to disable this warning\n",
      "  warnings.warn(\n"
     ]
    }
   ],
   "source": [
    "num_epochs = 1\n",
    "batch_size = 32\n",
    "train_loader = DataLoader(train_dataset, batch_size=batch_size, shuffle=True)\n",
    "test_loader = DataLoader(test_dataset, batch_size=batch_size, shuffle=True)\n",
    "\n",
    "torch.cuda.empty_cache()\n",
    "configuration = GPT2Config.from_pretrained('HooshvareLab/gpt2-fa', output_hidden_states=False)\n",
    "model = GPT2LMHeadModel.from_pretrained(\"HooshvareLab/gpt2-fa\", config=configuration)\n",
    "model.resize_token_embeddings(len(tokenizer))\n",
    "model.to(device)\n",
    "\n",
    "optimizer = AdamW(model.parameters(), lr=1e-3, eps=1e-8)\n",
    "scheduler = get_linear_schedule_with_warmup(optimizer, num_warmup_steps=4000, num_training_steps=len(train_loader) * num_epochs)"
   ]
  },
  {
   "cell_type": "code",
   "execution_count": 4,
   "metadata": {},
   "outputs": [
    {
     "name": "stdout",
     "output_type": "stream",
     "text": [
      "Epoch: 0, Loss:  10.757376670837402\n",
      "Epoch: 0, Loss:  3.5103728771209717\n"
     ]
    },
    {
     "data": {
      "image/png": "[encoded data removed]",
      "text/plain": [
       "<Figure size 640x480 with 1 Axes>"
      ]
     },
     "metadata": {},
     "output_type": "display_data"
    }
   ],
   "source": [
    "train_loss = []\n",
    "for epoch in range(num_epochs):\n",
    "    model.train()\n",
    "    for i, batch in enumerate(train_loader):\n",
    "        optimizer.zero_grad()\n",
    "\n",
    "        input_ids = batch[0].to(device)\n",
    "        attn_mask = batch[1].to(device)\n",
    "        full_beyt = batch[2].to(device)\n",
    "        outputs = model(input_ids, labels=full_beyt, attention_mask=attn_mask, token_type_ids=None)\n",
    "\n",
    "        loss = outputs[0]\n",
    "        loss.backward()\n",
    "        optimizer.step()\n",
    "        scheduler.step()\n",
    "\n",
    "        if i % 500 == 0:\n",
    "            print(f'Epoch: {epoch}, Loss:  {loss.item()}')\n",
    "\n",
    "    train_loss.append(loss.item())\n",
    "\n",
    "# plt.plot(train_loss)\n",
    "# plt.xlabel('Epochs')\n",
    "# plt.ylabel('Loss')\n",
    "# plt.show()"
   ]
  },
  {
   "cell_type": "code",
   "execution_count": 10,
   "metadata": {},
   "outputs": [
    {
     "name": "stderr",
     "output_type": "stream",
     "text": [
      "A decoder-only architecture is being used, but right-padding was detected! For correct generation results, please set `padding_side='left'` when initializing the tokenizer.\n"
     ]
    },
    {
     "name": "stdout",
     "output_type": "stream",
     "text": [
      "در دلم آتشی بسوخت از آن آتش بگو که آن را همی بداراست نهان     به هر سو در نهان گاه خویش      \n"
     ]
    }
   ],
   "source": [
    "def besora(txt):\n",
    "    model.eval()\n",
    "    txt = '<s>' + \"<|startoftext|>\" + txt + '</s>'\n",
    "    input_ids = torch.tensor(tokenizer.encode(txt)).unsqueeze(0)\n",
    "    input_ids = input_ids.to(device)\n",
    "    attention_mask = input_ids.ne(tokenizer.pad_token_id).float().to(device)\n",
    "    outputs = model.generate(input_ids, max_length=40, do_sample=True, top_k=50, top_p=0.95, num_return_sequences=1, \n",
    "                            attention_mask=attention_mask, pad_token_id=tokenizer.eos_token_id)\n",
    "    generated = tokenizer.decode(outputs[0], skip_special_tokens=False)\n",
    "    generated = generated.replace(\"<|startoftext|>\", \"\")\n",
    "    generated = generated.replace(\"<s>\", \"\")\n",
    "    generated = generated.replace(\"</s>\", \" \")\n",
    "    generated = generated.replace(\"<pad>\", \"\")\n",
    "    generated = generated.replace(\"<sep>\", \"     \")\n",
    "    return generated\n",
    "\n",
    "print(besora(\"در دلم آتشی بسوخت از آن آتش بگو\"))"
   ]
  },
  {
   "cell_type": "code",
   "execution_count": 11,
   "metadata": {},
   "outputs": [
    {
     "name": "stderr",
     "output_type": "stream",
     "text": [
      "A decoder-only architecture is being used, but right-padding was detected! For correct generation results, please set `padding_side='left'` when initializing the tokenizer.\n"
     ]
    },
    {
     "name": "stdout",
     "output_type": "stream",
     "text": [
      "چو تمرین مهلک به پایان رسد بدو داد و شد شاه نوذر بماند     همه نامداران و هر مهتری     خردمند و بر دانش و رای خویش      \n"
     ]
    }
   ],
   "source": [
    "print(besora(\"چو تمرین مهلک به پایان رسد\"))"
   ]
  },
  {
   "cell_type": "code",
   "execution_count": 17,
   "metadata": {},
   "outputs": [
    {
     "name": "stderr",
     "output_type": "stream",
     "text": [
      "A decoder-only architecture is being used, but right-padding was detected! For correct generation results, please set `padding_side='left'` when initializing the tokenizer.\n"
     ]
    },
    {
     "name": "stdout",
     "output_type": "stream",
     "text": [
      "به نام خداوند گردان به نیکی تو گر من بر چرخ بلند     چو تو بر تو اندر بیاری کنی     پرستندهٔ بدی و داد کنی      \n"
     ]
    }
   ],
   "source": [
    "print(besora(\"به نام خداوند گردان\"))"
   ]
  },
  {
   "cell_type": "code",
   "execution_count": 33,
   "metadata": {},
   "outputs": [
    {
     "name": "stderr",
     "output_type": "stream",
     "text": [
      "A decoder-only architecture is being used, but right-padding was detected! For correct generation results, please set `padding_side='left'` when initializing the tokenizer.\n"
     ]
    },
    {
     "name": "stdout",
     "output_type": "stream",
     "text": [
      "جهان آفرین را چون نگاه کنم خرد را سر تاج و تخت کنم     نخواهد که دارد این را بر من راست     بماند از بر من ز من بر نهان      \n"
     ]
    }
   ],
   "source": [
    "print(besora(\"جهان آفرین را چون نگاه کنم\"))"
   ]
  },
  {
   "cell_type": "code",
   "execution_count": 34,
   "metadata": {},
   "outputs": [
    {
     "data": {
      "text/plain": [
       "('model\\\\tokenizer_config.json',\n",
       " 'model\\\\special_tokens_map.json',\n",
       " 'model\\\\vocab.json',\n",
       " 'model\\\\merges.txt',\n",
       " 'model\\\\added_tokens.json',\n",
       " 'model\\\\tokenizer.json')"
      ]
     },
     "execution_count": 34,
     "metadata": {},
     "output_type": "execute_result"
    }
   ],
   "source": [
    "# save the model\n",
    "model.save_pretrained(\"model\")\n",
    "tokenizer.save_pretrained(\"model\")"
   ]
  },
  {
   "cell_type": "code",
   "execution_count": 38,
   "metadata": {},
   "outputs": [],
   "source": [
    "# load the model\n",
    "model = GPT2LMHeadModel.from_pretrained(\"model\")\n",
    "tokenizer = AutoTokenizer.from_pretrained(\"model\")\n",
    "\n",
    "# model.eval()\n",
    "# with torch.no_grad():\n",
    "#     for i, (input_ids, attn_mask, labels) in enumerate(test_loader):\n",
    "#         input_ids = input_ids.to(device)\n",
    "#         attn_mask = attn_mask.to(device)\n",
    "#         labels = labels.to(device)\n",
    "#         outputs = model(input_ids, attention_mask=attn_mask, labels=labels)\n",
    "#         loss = outputs[0]\n",
    "#         if i % 100 == 0:\n",
    "#             print(f'Epoch: {epoch}, Loss:  {loss.item()}')"
   ]
  }
 ],
 "metadata": {
  "kernelspec": {
   "display_name": "Python 3",
   "language": "python",
   "name": "python3"
  },
  "language_info": {
   "codemirror_mode": {
    "name": "ipython",
    "version": 3
   },
   "file_extension": ".py",
   "mimetype": "text/x-python",
   "name": "python",
   "nbconvert_exporter": "python",
   "pygments_lexer": "ipython3",
   "version": "3.11.2"
  }
 },
 "nbformat": 4,
 "nbformat_minor": 2
}
