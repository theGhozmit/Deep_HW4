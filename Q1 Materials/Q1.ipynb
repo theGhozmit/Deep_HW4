{
 "cells": [
  {
   "cell_type": "code",
   "execution_count": 1,
   "metadata": {},
   "outputs": [],
   "source": [
    "import torch\n",
    "import torch.nn as nn\n",
    "import torch.optim as optim\n",
    "import torch.nn.functional as F\n",
    "from torch.utils.data import Dataset, DataLoader, random_split\n",
    "import matplotlib.pyplot as plt\n",
    "import numpy as np\n",
    "import pandas as pd\n",
    "from matplotlib import pyplot as plt\n",
    "from sklearn.metrics import accuracy_score\n",
    "from tqdm import trange"
   ]
  },
  {
   "cell_type": "markdown",
   "metadata": {},
   "source": [
    "<div dir=\"rtl\">\n",
    "<font face=\"B Nazanin\" size=\"5\">\n",
    "\n",
    "نمایش ملوکول در فرمت گفته شده حاصل از به هم چسباندن تعدادی سمبل است که هر کدام می توانند نشان دهنده ملوکولی خاص و حالت آن ملوکول باشند، پرانتز و کروشه نشان دهنده حالت است. عدد هم میتواند در رشته وجود داشته باشد. برای جدایش صحیح رشته از رجکس استفاده می کنیم . حاصل جدایش به صورت زیر است :\n",
    "</font>\n",
    "</div>"
   ]
  },
  {
   "cell_type": "code",
   "execution_count": 2,
   "metadata": {},
   "outputs": [
    {
     "name": "stdout",
     "output_type": "stream",
     "text": [
      "original string:\n",
      "[Cl].CC(C)NCC(O)COc1cccc2ccccc12\n",
      "\n",
      " splited molecule:\n",
      "['[Cl]', '.', 'C', 'C', '(', 'C', ')', 'N', 'C', 'C', '(', 'O', ')', 'C', 'O', 'c', '1', 'c', 'c', 'c', 'c', '2', 'c', 'c', 'c', 'c', 'c', '1', '2']\n",
      "\n",
      " reconstructed string based on split:\n",
      "[Cl].CC(C)NCC(O)COc1cccc2ccccc12\n",
      "\n",
      "number of mismatch:  0\n"
     ]
    }
   ],
   "source": [
    "df = pd.read_csv('BBBP.csv')\n",
    "\n",
    "import re\n",
    "\n",
    "def split_smiles(smiles):\n",
    "    pattern = '(\\[[^\\]]+]|Br?|Cl?|I|C?|c?|N?|n?|O?|o?|F?|S?|s?|\\(|\\)|\\.|=|#|-|\\+|\\\\\\\\|\\/|:|~|@|\\?|>|<|\\*|\\%[0-9]{2}|[0-9])'\n",
    "    return re.split(pattern, smiles)\n",
    "\n",
    "smiles_split            = df['smiles'].apply(split_smiles)\n",
    "smiles_reconstructed    = smiles_split.apply(lambda x: ''.join(x))\n",
    "smiles                  = df['smiles']\n",
    "\n",
    "smiles_split = smiles_split.apply(lambda x: [a for a in x if a != ''])\n",
    "\n",
    "print(\"original string:\")\n",
    "print(smiles[0])\n",
    "print(\"\\n splited molecule:\")\n",
    "print(smiles_split[0])\n",
    "print(\"\\n reconstructed string based on split:\")\n",
    "print(smiles_reconstructed[0])\n",
    "\n",
    "mismatch = smiles_split.apply(lambda x: ''.join(x)) != smiles\n",
    "print()\n",
    "print(\"number of mismatch: \", sum(mismatch))\n"
   ]
  },
  {
   "cell_type": "code",
   "execution_count": 3,
   "metadata": {},
   "outputs": [
    {
     "data": {
      "image/png": "[encoded data removed]",
      "text/plain": [
       "<Figure size 640x480 with 1 Axes>"
      ]
     },
     "metadata": {},
     "output_type": "display_data"
    },
    {
     "name": "stdout",
     "output_type": "stream",
     "text": [
      "max len of smiles:  232\n",
      "min len of smiles:  3\n",
      "average len of smiles:  44.40682926829268\n",
      "standard deviation of len of smiles:  20.742753120539017\n",
      "\n",
      "number of unique symbols:  71\n",
      "symbol count: \n",
      "{'[Cl]': 5, '.': 163, 'C': 26859, '(': 10491, ')': 10491, 'N': 3724, 'O': 6142, 'c': 6937, '1': 4100, '2': 3362, '=': 8034, 'Cl': 570, '3': 2548, '4': 1434, 'F': 509, 'n': 472, 'o': 48, '[C@H]': 1354, 'S': 405, '[C@@H]': 893, '5': 454, '[C@@]': 350, '[C@]': 323, '\\\\': 203, '/': 184, '[S]': 103, 's': 72, '#': 53, 'Br': 45, 'I': 6, '[H]': 4, '[N+]': 49, '[O-]': 64, '[nH]': 40, '6': 124, '7': 56, '8': 28, '9': 16, '[Cl-]': 43, '[H+]': 40, '[NH2]': 1, '[NH]': 50, '[Na+]': 19, '[P]': 11, '[N@@]': 8, '[Br-]': 6, '[n+]': 2, '[N@]': 14, '[Ca++]': 1, '%10': 8, '[N-]': 4, '[S@]': 1, '[NH+]': 2, '[OH-]': 1, '[nH+]': 1, '[o+]': 1, '[NH3+]': 1, '%11': 4, '%12': 4, '%13': 4, '%14': 4, '[Na]': 2, '[C-]': 2, '[N]': 77, '[NH2+]': 2, '[CH2-]': 1, '[CH-]': 1, 'B': 1, '[S+]': 1, '[O+]': 1, '[NH-]': 1}\n",
      "\n"
     ]
    }
   ],
   "source": [
    "# plot the distribution of len of smiles \n",
    "smiles_len = smiles_split.apply(len)\n",
    "plt.hist(smiles_len, bins=20)\n",
    "plt.xlabel('len of smiles')\n",
    "plt.ylabel('count')\n",
    "plt.title('distribution of len of smiles')\n",
    "plt.show()\n",
    "print(\"max len of smiles: \", max(smiles_len))\n",
    "print(\"min len of smiles: \", min(smiles_len))\n",
    "print(\"average len of smiles: \", np.mean(smiles_len))\n",
    "print(\"standard deviation of len of smiles: \", np.std(smiles_len))\n",
    "print()\n",
    "\n",
    "symbol_count_dict = {}\n",
    "for smile in smiles_split:\n",
    "    for symbol in smile:\n",
    "        if symbol in symbol_count_dict:\n",
    "            symbol_count_dict[symbol] += 1\n",
    "        else:\n",
    "            symbol_count_dict[symbol] = 1\n",
    "\n",
    "print(\"number of unique symbols: \", len(symbol_count_dict))\n",
    "print(\"symbol count: \")\n",
    "print(symbol_count_dict)\n",
    "print()"
   ]
  },
  {
   "cell_type": "code",
   "execution_count": 4,
   "metadata": {},
   "outputs": [
    {
     "name": "stdout",
     "output_type": "stream",
     "text": [
      "tensor([[0., 0., 0.,  ..., 0., 0., 0.],\n",
      "        [0., 0., 0.,  ..., 0., 0., 0.],\n",
      "        [0., 0., 0.,  ..., 0., 0., 0.],\n",
      "        ...,\n",
      "        [0., 0., 1.,  ..., 0., 0., 0.],\n",
      "        [0., 0., 0.,  ..., 0., 0., 0.],\n",
      "        [0., 0., 1.,  ..., 0., 0., 0.]])\n",
      "shape of dataset:  2050 torch.Size([232, 71])\n"
     ]
    }
   ],
   "source": [
    "symbol_list = list(symbol_count_dict.keys())\n",
    "\n",
    "symbol_to_index = {}\n",
    "index_to_symbol = {}\n",
    "for i, symbol in enumerate(symbol_list):\n",
    "    symbol_to_index[symbol] = i\n",
    "    index_to_symbol[i] = symbol\n",
    "\n",
    "\n",
    "def smiles_to_onehot(smiles):\n",
    "    smiles_onehot = torch.zeros(232, len(symbol_list))\n",
    "    for i, symbol in enumerate(smiles):\n",
    "        smiles_onehot[(232-len(smiles)+i), symbol_to_index[symbol]] = 1\n",
    "    return smiles_onehot\n",
    "\n",
    "dataset = []\n",
    "for smiles in smiles_split:\n",
    "    dataset.append(smiles_to_onehot(smiles))\n",
    "print(dataset[20])\n",
    "print(\"shape of dataset: \", len(dataset), dataset[0].shape)\n",
    "\n",
    "labels = df['p_np'].values\n",
    "\n",
    "class MoleculeDataset(Dataset):\n",
    "    def __init__(self, dataset, lables):\n",
    "        self.dataset = dataset\n",
    "        self.lables = lables\n",
    "    def __len__(self):\n",
    "        return len(self.dataset)\n",
    "    def __getitem__(self, idx):\n",
    "        return self.dataset[idx], self.lables[idx]\n",
    "\n",
    "dataset = MoleculeDataset(dataset, labels)\n",
    "\n",
    "train_size = int(0.9 * len(dataset))\n",
    "test_size = len(dataset) - train_size\n",
    "train_dataset, test_dataset = random_split(dataset, [train_size, test_size])\n"
   ]
  },
  {
   "cell_type": "code",
   "execution_count": 5,
   "metadata": {},
   "outputs": [
    {
     "name": "stderr",
     "output_type": "stream",
     "text": [
      "100%|██████████| 10/10 [00:01<00:00,  5.20it/s]\n"
     ]
    },
    {
     "name": "stdout",
     "output_type": "stream",
     "text": [
      "baseline train accuracy:  0.9739837398373984\n",
      "baseline test accuracy:  0.8341463414634146\n"
     ]
    }
   ],
   "source": [
    "# a simple FC model for baseline accuracy\n",
    "class FC(nn.Module):\n",
    "    def __init__(self):\n",
    "        super(FC, self).__init__()\n",
    "        self.fc1 = nn.Linear(232*71, 15)\n",
    "        self.relu1 = nn.ReLU()\n",
    "        self.fc2 = nn.Linear(15, 2)\n",
    "        self.softmax = nn.Softmax(dim=1)\n",
    "    def forward(self, x):\n",
    "        x = x.view(-1, 232*71)\n",
    "        x = self.fc1(x)\n",
    "        x = self.relu1(x)\n",
    "        x = self.fc2(x)\n",
    "        x = self.softmax(x)\n",
    "        return x\n",
    "    \n",
    "fc_model = FC()\n",
    "fc_model.cuda()\n",
    "\n",
    "train_loader = DataLoader(train_dataset, batch_size=32, shuffle=True)\n",
    "test_loader = DataLoader(test_dataset, batch_size=32, shuffle=True)\n",
    "\n",
    "criterion = nn.CrossEntropyLoss()\n",
    "optimizer = optim.Adam(fc_model.parameters(), lr=0.001)\n",
    "\n",
    "for epoch in trange(10) :\n",
    "    for i, (data, label) in enumerate(train_loader) :\n",
    "        data = data.cuda()\n",
    "        label = label.cuda()\n",
    "        optimizer.zero_grad()\n",
    "        output = fc_model(data)\n",
    "        loss = criterion(output, label)\n",
    "        loss.backward()\n",
    "        optimizer.step()\n",
    "\n",
    "with torch.no_grad() :\n",
    "    pred = []\n",
    "    actual = []\n",
    "    for i, (data, label) in enumerate(train_loader) :\n",
    "        data = data.cuda()\n",
    "        label = label.cuda()\n",
    "        output = fc_model(data)\n",
    "        pred.append(torch.argmax(output, dim=1).cpu().numpy())\n",
    "        actual.append(label.cpu().numpy())\n",
    "\n",
    "    pred = np.concatenate(pred)\n",
    "    actual = np.concatenate(actual)\n",
    "    print(\"baseline train accuracy: \", accuracy_score(actual, pred))\n",
    "\n",
    "    pred = []\n",
    "    actual = []\n",
    "    for i, (data, label) in enumerate(test_loader) :\n",
    "        data = data.cuda()\n",
    "        label = label.cuda()\n",
    "        output = fc_model(data)\n",
    "        pred.append(torch.argmax(output, dim=1).cpu().numpy())\n",
    "        actual.append(label.cpu().numpy())\n",
    "\n",
    "    pred = np.concatenate(pred)\n",
    "    actual = np.concatenate(actual)\n",
    "    print(\"baseline test accuracy: \", accuracy_score(actual, pred))\n"
   ]
  },
  {
   "cell_type": "code",
   "execution_count": 8,
   "metadata": {},
   "outputs": [
    {
     "name": "stderr",
     "output_type": "stream",
     "text": [
      "100%|██████████| 20/20 [00:14<00:00,  1.39it/s]\n"
     ]
    },
    {
     "name": "stdout",
     "output_type": "stream",
     "text": [
      "lstm train accuracy:  0.8612466124661247\n",
      "lstm test accuracy:  0.8146341463414634\n"
     ]
    }
   ],
   "source": [
    "# lstm model \n",
    "class LSTM(nn.Module):\n",
    "    def __init__(self, lstm_layers):\n",
    "        super(LSTM, self).__init__()\n",
    "        self.lstm_layers = lstm_layers\n",
    "        self.lstm1 = nn.LSTM(71, 15, lstm_layers, batch_first=True)\n",
    "        self.fc1 = nn.Linear(15, 7)\n",
    "        self.relu = nn.ReLU()\n",
    "        self.fc2 = nn.Linear(7, 2)\n",
    "        self.softmax = nn.Softmax(dim=1)\n",
    "    def forward(self, x):\n",
    "        out, _ = self.lstm1(x)\n",
    "        out = self.fc1(out[:, -1, :])\n",
    "        out = self.relu(out)\n",
    "        out = self.fc2(out)\n",
    "        out = self.softmax(out)\n",
    "        return out\n",
    "\n",
    "lstm_model = LSTM(1)\n",
    "lstm_model.cuda()\n",
    "\n",
    "train_loader = DataLoader(train_dataset, batch_size=8, shuffle=True)\n",
    "test_loader = DataLoader(test_dataset, batch_size=8, shuffle=True)\n",
    "\n",
    "criterion = nn.CrossEntropyLoss()\n",
    "optimizer = optim.Adam(lstm_model.parameters(), lr=0.001)\n",
    "\n",
    "for epoch in trange(20) :\n",
    "    for i, (data, label) in enumerate(train_loader) :\n",
    "        data = data.cuda()\n",
    "        label = label.cuda()\n",
    "        optimizer.zero_grad()\n",
    "        output = lstm_model(data)\n",
    "        loss = criterion(output, label)\n",
    "        loss.backward()\n",
    "        optimizer.step()\n",
    "\n",
    "with torch.no_grad() :\n",
    "    pred = []\n",
    "    actual = []\n",
    "    for i, (data, label) in enumerate(train_loader) :\n",
    "        data = data.cuda()\n",
    "        label = label.cuda()\n",
    "        output = lstm_model(data)\n",
    "        pred.append(torch.argmax(output, dim=1).cpu().numpy())\n",
    "        actual.append(label.cpu().numpy())\n",
    "\n",
    "    pred = np.concatenate(pred)\n",
    "    actual = np.concatenate(actual)\n",
    "    print(\"lstm train accuracy: \", accuracy_score(actual, pred))\n",
    "\n",
    "    pred = []\n",
    "    actual = []\n",
    "    for i, (data, label) in enumerate(test_loader) :\n",
    "        data = data.cuda()\n",
    "        label = label.cuda()\n",
    "        output = lstm_model(data)\n",
    "        pred.append(torch.argmax(output, dim=1).cpu().numpy())\n",
    "        actual.append(label.cpu().numpy())\n",
    "\n",
    "    pred = np.concatenate(pred)\n",
    "    actual = np.concatenate(actual)\n",
    "    print(\"lstm test accuracy: \", accuracy_score(actual, pred))"
   ]
  },
  {
   "cell_type": "code",
   "execution_count": 7,
   "metadata": {},
   "outputs": [
    {
     "name": "stderr",
     "output_type": "stream",
     "text": [
      "100%|██████████| 20/20 [00:15<00:00,  1.28it/s]\n"
     ]
    },
    {
     "name": "stdout",
     "output_type": "stream",
     "text": [
      "bilstm train accuracy:  0.8737127371273713\n",
      "bilstm accuracy:  0.824390243902439\n"
     ]
    }
   ],
   "source": [
    "# bilstm model \n",
    "class BiLSTM(nn.Module):\n",
    "    def __init__(self, lstm_layers):\n",
    "        super(BiLSTM, self).__init__()\n",
    "        self.lstm_layers = lstm_layers\n",
    "        self.lstm1 = nn.LSTM(71, 15, lstm_layers, batch_first=True, bidirectional=True)\n",
    "        self.fc1 = nn.Linear(30, 15)\n",
    "        self.relu = nn.ReLU()\n",
    "        self.fc2 = nn.Linear(15, 2)\n",
    "        self.sigmoid = nn.Sigmoid()\n",
    "    def forward(self, x):\n",
    "        out, _ = self.lstm1(x)\n",
    "        out = self.fc1(out[:, -1, :])\n",
    "        out = self.relu(out)\n",
    "        out = self.fc2(out)\n",
    "        out = self.sigmoid(out)\n",
    "        return out\n",
    "\n",
    "bilstm_model = BiLSTM(1)\n",
    "bilstm_model.cuda()\n",
    "\n",
    "train_loader = DataLoader(train_dataset, batch_size=8, shuffle=True)\n",
    "test_loader = DataLoader(test_dataset, batch_size=8, shuffle=True)\n",
    "\n",
    "criterion = nn.CrossEntropyLoss()\n",
    "\n",
    "optimizer = optim.Adam(bilstm_model.parameters(), lr=0.001)\n",
    "\n",
    "for epoch in trange(20) :\n",
    "    for i, (data, label) in enumerate(train_loader) :\n",
    "        data = data.cuda()\n",
    "        label = label.cuda()\n",
    "        optimizer.zero_grad()\n",
    "        output = bilstm_model(data)\n",
    "        loss = criterion(output, label)\n",
    "        loss.backward()\n",
    "        optimizer.step()\n",
    "\n",
    "with torch.no_grad() :\n",
    "    pred = []\n",
    "    actual = []\n",
    "    for i, (data, label) in enumerate(train_loader) :\n",
    "        data = data.cuda()\n",
    "        label = label.cuda()\n",
    "        output = bilstm_model(data)\n",
    "        pred.append(torch.argmax(output, dim=1).cpu().numpy())\n",
    "        actual.append(label.cpu().numpy())\n",
    "\n",
    "    pred = np.concatenate(pred)\n",
    "    actual = np.concatenate(actual)\n",
    "    print(\"bilstm train accuracy: \", accuracy_score(actual, pred))\n",
    "\n",
    "    pred = []\n",
    "    actual = []\n",
    "    for i, (data, label) in enumerate(test_loader) :\n",
    "        data = data.cuda()\n",
    "        label = label.cuda()\n",
    "        output = bilstm_model(data)\n",
    "        pred.append(torch.argmax(output, dim=1).cpu().numpy())\n",
    "        actual.append(label.cpu().numpy())\n",
    "\n",
    "    pred = np.concatenate(pred)\n",
    "    actual = np.concatenate(actual)\n",
    "    print(\"bilstm accuracy: \", accuracy_score(actual, pred))"
   ]
  },
  {
   "cell_type": "markdown",
   "metadata": {},
   "source": [
    "<div dir=\"rtl\">\n",
    "<font face=\"B Nazanin\" size=\"5\">\n",
    "شبکه اول یک طرفه و شبکه دوم دوطرفه است ، به این معنا که توالی داده را هم از راست به چپ و هم از چپ به راست مورد بررسی قرار می دهد. با توجه به دادگان ما که ملوکول هستند ، توالی از هر دو طرف معنا دار است زیرا خواص ملوکول به این که آن را از چپ یا از راست نگاه کنیم ربطی ندارد، به این علت شبکه دو طرفه یا BiLSTM عملکرد بهتری دارد.\n",
    "</font>\n",
    "</div>"
   ]
  }
 ],
 "metadata": {
  "kernelspec": {
   "display_name": "Python 3",
   "language": "python",
   "name": "python3"
  },
  "language_info": {
   "codemirror_mode": {
    "name": "ipython",
    "version": 3
   },
   "file_extension": ".py",
   "mimetype": "text/x-python",
   "name": "python",
   "nbconvert_exporter": "python",
   "pygments_lexer": "ipython3",
   "version": "3.11.2"
  }
 },
 "nbformat": 4,
 "nbformat_minor": 2
}
